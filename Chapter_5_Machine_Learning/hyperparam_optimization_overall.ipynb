{
 "cells": [
  {
   "cell_type": "markdown",
   "id": "6b728af3",
   "metadata": {},
   "source": [
    "Import Modules"
   ]
  },
  {
   "cell_type": "code",
   "execution_count": 48,
   "id": "15d4f3f0",
   "metadata": {},
   "outputs": [],
   "source": [
    "import optuna\n",
    "import os\n",
    "import pandas as pd\n",
    "import plotly\n",
    "import sklearn\n",
    "from sklearn import preprocessing, svm, ensemble\n",
    "from sklearn.model_selection import KFold, cross_val_score\n",
    "from sklearn.linear_model import LinearRegression\n",
    "from sklearn.neural_network import MLPRegressor\n",
    "from sklearn.gaussian_process import GaussianProcessRegressor, kernels\n",
    "from sklearn.cross_decomposition import PLSRegression\n",
    "from tqdm import tqdm"
   ]
  },
  {
   "cell_type": "markdown",
   "id": "11fadd9c",
   "metadata": {},
   "source": [
    "Define objectives of hyperparamter optimization"
   ]
  },
  {
   "cell_type": "code",
   "execution_count": 49,
   "id": "ef47f7ea",
   "metadata": {},
   "outputs": [],
   "source": [
    "def objective(trial):\n",
    "    # Load data file\n",
    "    prefix = \"TSOA_PIP\"\n",
    "    training_data=f\"{prefix}_train.csv\"\n",
    "    Dataset=pd.read_csv(training_data)\n",
    "    Descs = Dataset.columns[1:-1]\n",
    "    y_data = Dataset['Ea']\n",
    "    x_data = Dataset[Descs]\n",
    "    # Scale and transform values\n",
    "    scaler = preprocessing.StandardScaler().fit(x_data)\n",
    "    X = scaler.transform(x_data)\n",
    "    # Define methods to be tested\n",
    "    classifier_name = trial.suggest_categorical(\"classifier\",\n",
    "                                                [\"MLR\", \"GPR\", \"ANN\", \"SVM\", \"PLS\", \"RF\", \"ExtraTrees\", \"Bagging\"])\n",
    "    # Define parameters to optimize and initialise regressor instances\n",
    "    if classifier_name == \"MLR\":\n",
    "        classifier_obj = LinearRegression(n_jobs=-1)\n",
    "    elif classifier_name == \"GPR\":\n",
    "        gpr_kernel = kernels.Matern()\n",
    "        classifier_obj = GaussianProcessRegressor(kernel=gpr_kernel)\n",
    "    elif classifier_name == \"ANN\":\n",
    "        ann_layer = trial.suggest_int(\"ann_layer\", 10, 5000)\n",
    "        ann_layer2 = trial.suggest_int(\"ann_layer2\", 8, 2000)\n",
    "        classifier_obj = MLPRegressor(hidden_layer_sizes=(ann_layer,ann_layer2), max_iter=800)\n",
    "    elif classifier_name == \"SVM\":\n",
    "        svm_c = trial.suggest_float(\"svm_c\", 1e-10, 1e10, log=True)\n",
    "        svm_gamma = trial.suggest_float(\"svm_gamma\", 0.01, 0.1)\n",
    "        svm_epsilon = trial.suggest_float(\"svm_epsilon\", 0.0001, 1000, log=True)\n",
    "        classifier_obj = svm.SVR(C=svm_c, gamma=svm_gamma, epsilon=svm_epsilon)\n",
    "    elif classifier_name == \"PLS\":\n",
    "        pls_components = trial.suggest_int(\"pls_components\", 1, 10)\n",
    "        classifier_obj = PLSRegression(n_components=pls_components)\n",
    "    elif classifier_name == \"RF\":\n",
    "        rf_trees = trial.suggest_int(\"rf_trees\", 10, 1000)\n",
    "        rf_max_depth = trial.suggest_int(\"rf_max_depth\", 2, 32, log=True)\n",
    "        classifier_obj = ensemble.RandomForestRegressor(max_depth=rf_max_depth, n_estimators=rf_trees, n_jobs=-1)\n",
    "    elif classifier_name == \"ExtraTrees\":\n",
    "        et_trees = trial.suggest_int(\"et_trees\", 10, 1000)\n",
    "        et_max_depth = trial.suggest_int(\"et_max_depth\", 2, 32, log=True)\n",
    "        classifier_obj = ensemble.ExtraTreesRegressor(n_estimators=et_trees, max_depth=et_max_depth, n_jobs=-1)\n",
    "    elif classifier_name == \"Bagging\":\n",
    "        bag_trees = trial.suggest_int(\"bag_trees\", 10, 1000)\n",
    "        bag_max_depth = trial.suggest_int(\"bag_max_depth\", 2, 32, log=True)\n",
    "        classifier_obj = ensemble.ExtraTreesRegressor(n_estimators=bag_trees, max_depth=bag_max_depth, n_jobs=-1)\n",
    "    else:\n",
    "        pass\n",
    "    score = cross_val_score(classifier_obj,X,y_data,n_jobs=-1,cv=KFold(n_splits=10,shuffle=True, random_state=1))\n",
    "    accuracy = score.mean()\n",
    "    \n",
    "    return accuracy"
   ]
  },
  {
   "cell_type": "code",
   "execution_count": 50,
   "id": "4a04042f",
   "metadata": {},
   "outputs": [],
   "source": [
    "def main():\n",
    "\n",
    "    study = optuna.create_study(direction='maximize')\n",
    "    study.optimize(objective, n_trials=10)\n",
    "    \n",
    "    print(f\"The best trial is: \\n {study.best_trial}\")\n",
    "    print(f\"The best value is : \\n{study.best_value}\")\n",
    "    print(f\"The best parameters are : \\n{study.best_params}\")"
   ]
  },
  {
   "cell_type": "code",
   "execution_count": 51,
   "id": "8ad377a4",
   "metadata": {
    "scrolled": true
   },
   "outputs": [
    {
     "name": "stderr",
     "output_type": "stream",
     "text": [
      "\u001b[32m[I 2022-04-11 15:16:33,920]\u001b[0m A new study created in memory with name: no-name-34a792a1-5f54-4b24-9d57-66d52f3f9aaa\u001b[0m\n",
      "\u001b[32m[I 2022-04-11 15:16:35,161]\u001b[0m Trial 0 finished with value: 0.16132093497195044 and parameters: {'classifier': 'MLR'}. Best is trial 0 with value: 0.16132093497195044.\u001b[0m\n",
      "\u001b[32m[I 2022-04-11 15:16:35,967]\u001b[0m Trial 1 finished with value: 0.17584472603337437 and parameters: {'classifier': 'PLS', 'pls_components': 4}. Best is trial 1 with value: 0.17584472603337437.\u001b[0m\n",
      "\u001b[32m[I 2022-04-11 15:16:38,130]\u001b[0m Trial 2 finished with value: 0.20189411773252197 and parameters: {'classifier': 'Bagging', 'bag_trees': 986, 'bag_max_depth': 3}. Best is trial 2 with value: 0.20189411773252197.\u001b[0m\n",
      "\u001b[32m[I 2022-04-11 15:16:44,479]\u001b[0m Trial 3 finished with value: 0.2651174347003118 and parameters: {'classifier': 'RF', 'rf_trees': 854, 'rf_max_depth': 3}. Best is trial 3 with value: 0.2651174347003118.\u001b[0m\n",
      "\u001b[32m[I 2022-04-11 15:16:44,833]\u001b[0m Trial 4 finished with value: 0.12114510197879372 and parameters: {'classifier': 'ExtraTrees', 'et_trees': 196, 'et_max_depth': 2}. Best is trial 3 with value: 0.2651174347003118.\u001b[0m\n",
      "\u001b[32m[I 2022-04-11 15:16:44,884]\u001b[0m Trial 5 finished with value: 0.14440384838898718 and parameters: {'classifier': 'PLS', 'pls_components': 2}. Best is trial 3 with value: 0.2651174347003118.\u001b[0m\n",
      "\u001b[32m[I 2022-04-11 15:16:46,248]\u001b[0m Trial 6 finished with value: 0.19996247695039546 and parameters: {'classifier': 'ExtraTrees', 'et_trees': 876, 'et_max_depth': 3}. Best is trial 3 with value: 0.2651174347003118.\u001b[0m\n",
      "\u001b[32m[I 2022-04-11 15:16:50,933]\u001b[0m Trial 7 finished with value: 0.4075420007335703 and parameters: {'classifier': 'RF', 'rf_trees': 238, 'rf_max_depth': 9}. Best is trial 7 with value: 0.4075420007335703.\u001b[0m\n",
      "\u001b[32m[I 2022-04-11 15:16:50,979]\u001b[0m Trial 8 finished with value: 0.16132093497195044 and parameters: {'classifier': 'MLR'}. Best is trial 7 with value: 0.4075420007335703.\u001b[0m\n",
      "\u001b[32m[I 2022-04-11 15:16:51,038]\u001b[0m Trial 9 finished with value: 0.19101421471147173 and parameters: {'classifier': 'PLS', 'pls_components': 10}. Best is trial 7 with value: 0.4075420007335703.\u001b[0m\n"
     ]
    },
    {
     "name": "stdout",
     "output_type": "stream",
     "text": [
      "The best trial is: \n",
      " FrozenTrial(number=7, values=[0.4075420007335703], datetime_start=datetime.datetime(2022, 4, 11, 15, 16, 46, 249755), datetime_complete=datetime.datetime(2022, 4, 11, 15, 16, 50, 933802), params={'classifier': 'RF', 'rf_trees': 238, 'rf_max_depth': 9}, distributions={'classifier': CategoricalDistribution(choices=('MLR', 'GPR', 'ANN', 'SVM', 'PLS', 'RF', 'ExtraTrees', 'Bagging')), 'rf_trees': IntUniformDistribution(high=1000, low=10, step=1), 'rf_max_depth': IntLogUniformDistribution(high=32, low=2, step=1)}, user_attrs={}, system_attrs={}, intermediate_values={}, trial_id=7, state=TrialState.COMPLETE, value=None)\n",
      "The best value is : \n",
      "0.4075420007335703\n",
      "The best parameters are : \n",
      "{'classifier': 'RF', 'rf_trees': 238, 'rf_max_depth': 9}\n"
     ]
    }
   ],
   "source": [
    "main()"
   ]
  },
  {
   "cell_type": "markdown",
   "id": "a78c99df",
   "metadata": {},
   "source": [
    "Plot results"
   ]
  },
  {
   "cell_type": "code",
   "execution_count": 52,
   "id": "877020b5",
   "metadata": {},
   "outputs": [
    {
     "ename": "NameError",
     "evalue": "name 'plot_optimization_history' is not defined",
     "output_type": "error",
     "traceback": [
      "\u001b[1;31m---------------------------------------------------------------------------\u001b[0m",
      "\u001b[1;31mNameError\u001b[0m                                 Traceback (most recent call last)",
      "\u001b[1;32m~\\AppData\\Local\\Temp/ipykernel_9316/3733424923.py\u001b[0m in \u001b[0;36m<module>\u001b[1;34m\u001b[0m\n\u001b[1;32m----> 1\u001b[1;33m \u001b[0mplot_optimization_history\u001b[0m\u001b[1;33m(\u001b[0m\u001b[0mstudy\u001b[0m\u001b[1;33m)\u001b[0m\u001b[1;33m.\u001b[0m\u001b[0mshow\u001b[0m\u001b[1;33m(\u001b[0m\u001b[1;33m)\u001b[0m\u001b[1;33m\u001b[0m\u001b[1;33m\u001b[0m\u001b[0m\n\u001b[0m\u001b[0;32m      2\u001b[0m \u001b[0moptuna\u001b[0m\u001b[1;33m.\u001b[0m\u001b[0mvisualization\u001b[0m\u001b[1;33m.\u001b[0m\u001b[0mplot_parallel_coordinate\u001b[0m\u001b[1;33m(\u001b[0m\u001b[0mstudy\u001b[0m\u001b[1;33m,\u001b[0m \u001b[0mparams\u001b[0m\u001b[1;33m=\u001b[0m\u001b[1;33m[\u001b[0m\u001b[1;34m'rf_trees'\u001b[0m\u001b[1;33m,\u001b[0m \u001b[1;34m'rf_max_depth'\u001b[0m\u001b[1;33m]\u001b[0m\u001b[1;33m)\u001b[0m\u001b[1;33m\u001b[0m\u001b[1;33m\u001b[0m\u001b[0m\n",
      "\u001b[1;31mNameError\u001b[0m: name 'plot_optimization_history' is not defined"
     ]
    }
   ],
   "source": [
    "plot_optimization_history(study).show()\n",
    "optuna.visualization.plot_parallel_coordinate(study, params=['rf_trees', 'rf_max_depth'])"
   ]
  }
 ],
 "metadata": {
  "kernelspec": {
   "display_name": "Python 3 (ipykernel)",
   "language": "python",
   "name": "python3"
  },
  "language_info": {
   "codemirror_mode": {
    "name": "ipython",
    "version": 3
   },
   "file_extension": ".py",
   "mimetype": "text/x-python",
   "name": "python",
   "nbconvert_exporter": "python",
   "pygments_lexer": "ipython3",
   "version": "3.9.7"
  }
 },
 "nbformat": 4,
 "nbformat_minor": 5
}
